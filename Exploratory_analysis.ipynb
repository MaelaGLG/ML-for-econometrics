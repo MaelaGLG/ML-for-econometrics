{
  "nbformat": 4,
  "nbformat_minor": 0,
  "metadata": {
    "colab": {
      "provenance": [],
      "authorship_tag": "ABX9TyNT9Hai6w+0bHl9YqZZki1m",
      "include_colab_link": true
    },
    "kernelspec": {
      "name": "python3",
      "display_name": "Python 3"
    },
    "language_info": {
      "name": "python"
    }
  },
  "cells": [
    {
      "cell_type": "markdown",
      "metadata": {
        "id": "view-in-github",
        "colab_type": "text"
      },
      "source": [
        "<a href=\"https://colab.research.google.com/github/MaelaGLG/ML-for-econometrics/blob/main/Exploratory_analysis.ipynb\" target=\"_parent\"><img src=\"https://colab.research.google.com/assets/colab-badge.svg\" alt=\"Open In Colab\"/></a>"
      ]
    },
    {
      "cell_type": "code",
      "execution_count": null,
      "metadata": {
        "colab": {
          "base_uri": "https://localhost:8080/"
        },
        "id": "sfFjeP-yNGoa",
        "outputId": "60305655-dc0f-487b-e0b5-37f0b6c9db76"
      },
      "outputs": [
        {
          "output_type": "stream",
          "name": "stdout",
          "text": [
            "   ID DEP_libelle           REG_libelle  TUU2017  TDUU2017  \\\n",
            "0   1  VAL D OISE         Île-de-France        8        80   \n",
            "1   2       SOMME       Hauts-de-France        4        42   \n",
            "2   3       PARIS         Île-de-France        8        80   \n",
            "3   4      SAVOIE  Auvergne-Rhône-Alpes        0         7   \n",
            "4   5    YVELINES         Île-de-France        8        80   \n",
            "\n",
            "       STATUT_libelle                        TYPE_libelle  Pref_sous_pref  \\\n",
            "0            Banlieue  Agglomération inter-départementale               0   \n",
            "1        Ville-centre  Agglomération intra-départementale               1   \n",
            "2        Ville-centre  Agglomération inter-départementale               0   \n",
            "3  Hors unité urbaine                  Hors unité urbaine               0   \n",
            "4            Banlieue  Agglomération inter-départementale               0   \n",
            "\n",
            "                             typo  ville_centre  ...  tx_part_pres2022_T1  \\\n",
            "0        8. Banlieues parisiennes             0  ...            72.543919   \n",
            "1               2. Petites villes             1  ...            64.902568   \n",
            "2  5. Métropoles (sans banlieues)             1  ...            79.924214   \n",
            "3                       1. Bourgs             0  ...            76.798922   \n",
            "4        8. Banlieues parisiennes             0  ...            73.078674   \n",
            "\n",
            "   degrad_2022  nb_bat_prive_1000hab  nb_ensemble_equipement_1000hab  \\\n",
            "0    71.607590             21.482277                       23.630505   \n",
            "1    16.422800             10.089539                       11.574580   \n",
            "2    24.585333             67.525469                       68.395498   \n",
            "3     9.781358             67.606444                       71.921749   \n",
            "4     6.463527              4.385965                        5.032318   \n",
            "\n",
            "   nb_bat_public_1000hab  nb_police  destructions_moy    vols_moy  \\\n",
            "0               1.790190        1.0         81.834823  916.912673   \n",
            "1               1.397685        2.0         18.507592    9.057206   \n",
            "2               0.729702        5.0         31.831105  232.823306   \n",
            "3               4.027618        1.0         13.919344  173.295871   \n",
            "4               0.646353        0.0          8.395705    5.246003   \n",
            "\n",
            "   stupefiant_moy  vols_vehic_moy  \n",
            "0       17.299550       29.601074  \n",
            "1        6.113878        1.823012  \n",
            "2        0.000000       10.097581  \n",
            "3       23.244399             NaN  \n",
            "4        3.976286        2.286533  \n",
            "\n",
            "[5 rows x 121 columns]\n"
          ]
        }
      ],
      "source": [
        "import pandas as pd\n",
        "\n",
        "# Lire le fichier Excel\n",
        "df = pd.read_excel('riots2023.xlsx')\n",
        "\n"
      ]
    }
  ]
}