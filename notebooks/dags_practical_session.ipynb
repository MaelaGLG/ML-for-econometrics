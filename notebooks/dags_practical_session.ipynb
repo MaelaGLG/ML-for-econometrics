{
  "cells": [
    {
      "cell_type": "code",
      "execution_count": 3,
      "id": "bd1bc726",
      "metadata": {
        "lines_to_next_cell": 0,
        "colab": {
          "base_uri": "https://localhost:8080/"
        },
        "id": "bd1bc726",
        "outputId": "64c32b7b-e278-44d3-8188-7f543350f1b8"
      },
      "outputs": [
        {
          "output_type": "stream",
          "name": "stdout",
          "text": [
            "Requirement already satisfied: networkx in /usr/local/lib/python3.11/dist-packages (3.4.2)\n",
            "Requirement already satisfied: pgmpy in /usr/local/lib/python3.11/dist-packages (0.1.26)\n",
            "Requirement already satisfied: networkx in /usr/local/lib/python3.11/dist-packages (from pgmpy) (3.4.2)\n",
            "Requirement already satisfied: numpy in /usr/local/lib/python3.11/dist-packages (from pgmpy) (1.26.4)\n",
            "Requirement already satisfied: scipy in /usr/local/lib/python3.11/dist-packages (from pgmpy) (1.13.1)\n",
            "Requirement already satisfied: scikit-learn in /usr/local/lib/python3.11/dist-packages (from pgmpy) (1.6.1)\n",
            "Requirement already satisfied: pandas in /usr/local/lib/python3.11/dist-packages (from pgmpy) (2.2.2)\n",
            "Requirement already satisfied: pyparsing in /usr/local/lib/python3.11/dist-packages (from pgmpy) (3.2.1)\n",
            "Requirement already satisfied: torch in /usr/local/lib/python3.11/dist-packages (from pgmpy) (2.5.1+cu124)\n",
            "Requirement already satisfied: statsmodels in /usr/local/lib/python3.11/dist-packages (from pgmpy) (0.14.4)\n",
            "Requirement already satisfied: tqdm in /usr/local/lib/python3.11/dist-packages (from pgmpy) (4.67.1)\n",
            "Requirement already satisfied: joblib in /usr/local/lib/python3.11/dist-packages (from pgmpy) (1.4.2)\n",
            "Requirement already satisfied: opt-einsum in /usr/local/lib/python3.11/dist-packages (from pgmpy) (3.4.0)\n",
            "Requirement already satisfied: xgboost in /usr/local/lib/python3.11/dist-packages (from pgmpy) (2.1.4)\n",
            "Requirement already satisfied: google-generativeai in /usr/local/lib/python3.11/dist-packages (from pgmpy) (0.8.4)\n",
            "Requirement already satisfied: google-ai-generativelanguage==0.6.15 in /usr/local/lib/python3.11/dist-packages (from google-generativeai->pgmpy) (0.6.15)\n",
            "Requirement already satisfied: google-api-core in /usr/local/lib/python3.11/dist-packages (from google-generativeai->pgmpy) (2.24.1)\n",
            "Requirement already satisfied: google-api-python-client in /usr/local/lib/python3.11/dist-packages (from google-generativeai->pgmpy) (2.160.0)\n",
            "Requirement already satisfied: google-auth>=2.15.0 in /usr/local/lib/python3.11/dist-packages (from google-generativeai->pgmpy) (2.38.0)\n",
            "Requirement already satisfied: protobuf in /usr/local/lib/python3.11/dist-packages (from google-generativeai->pgmpy) (4.25.6)\n",
            "Requirement already satisfied: pydantic in /usr/local/lib/python3.11/dist-packages (from google-generativeai->pgmpy) (2.10.6)\n",
            "Requirement already satisfied: typing-extensions in /usr/local/lib/python3.11/dist-packages (from google-generativeai->pgmpy) (4.12.2)\n",
            "Requirement already satisfied: proto-plus<2.0.0dev,>=1.22.3 in /usr/local/lib/python3.11/dist-packages (from google-ai-generativelanguage==0.6.15->google-generativeai->pgmpy) (1.26.0)\n",
            "Requirement already satisfied: python-dateutil>=2.8.2 in /usr/local/lib/python3.11/dist-packages (from pandas->pgmpy) (2.8.2)\n",
            "Requirement already satisfied: pytz>=2020.1 in /usr/local/lib/python3.11/dist-packages (from pandas->pgmpy) (2025.1)\n",
            "Requirement already satisfied: tzdata>=2022.7 in /usr/local/lib/python3.11/dist-packages (from pandas->pgmpy) (2025.1)\n",
            "Requirement already satisfied: threadpoolctl>=3.1.0 in /usr/local/lib/python3.11/dist-packages (from scikit-learn->pgmpy) (3.5.0)\n",
            "Requirement already satisfied: patsy>=0.5.6 in /usr/local/lib/python3.11/dist-packages (from statsmodels->pgmpy) (1.0.1)\n",
            "Requirement already satisfied: packaging>=21.3 in /usr/local/lib/python3.11/dist-packages (from statsmodels->pgmpy) (24.2)\n",
            "Requirement already satisfied: filelock in /usr/local/lib/python3.11/dist-packages (from torch->pgmpy) (3.17.0)\n",
            "Requirement already satisfied: jinja2 in /usr/local/lib/python3.11/dist-packages (from torch->pgmpy) (3.1.5)\n",
            "Requirement already satisfied: fsspec in /usr/local/lib/python3.11/dist-packages (from torch->pgmpy) (2024.10.0)\n",
            "Requirement already satisfied: nvidia-cuda-nvrtc-cu12==12.4.127 in /usr/local/lib/python3.11/dist-packages (from torch->pgmpy) (12.4.127)\n",
            "Requirement already satisfied: nvidia-cuda-runtime-cu12==12.4.127 in /usr/local/lib/python3.11/dist-packages (from torch->pgmpy) (12.4.127)\n",
            "Requirement already satisfied: nvidia-cuda-cupti-cu12==12.4.127 in /usr/local/lib/python3.11/dist-packages (from torch->pgmpy) (12.4.127)\n",
            "Requirement already satisfied: nvidia-cudnn-cu12==9.1.0.70 in /usr/local/lib/python3.11/dist-packages (from torch->pgmpy) (9.1.0.70)\n",
            "Requirement already satisfied: nvidia-cublas-cu12==12.4.5.8 in /usr/local/lib/python3.11/dist-packages (from torch->pgmpy) (12.4.5.8)\n",
            "Requirement already satisfied: nvidia-cufft-cu12==11.2.1.3 in /usr/local/lib/python3.11/dist-packages (from torch->pgmpy) (11.2.1.3)\n",
            "Requirement already satisfied: nvidia-curand-cu12==10.3.5.147 in /usr/local/lib/python3.11/dist-packages (from torch->pgmpy) (10.3.5.147)\n",
            "Requirement already satisfied: nvidia-cusolver-cu12==11.6.1.9 in /usr/local/lib/python3.11/dist-packages (from torch->pgmpy) (11.6.1.9)\n",
            "Requirement already satisfied: nvidia-cusparse-cu12==12.3.1.170 in /usr/local/lib/python3.11/dist-packages (from torch->pgmpy) (12.3.1.170)\n",
            "Requirement already satisfied: nvidia-nccl-cu12==2.21.5 in /usr/local/lib/python3.11/dist-packages (from torch->pgmpy) (2.21.5)\n",
            "Requirement already satisfied: nvidia-nvtx-cu12==12.4.127 in /usr/local/lib/python3.11/dist-packages (from torch->pgmpy) (12.4.127)\n",
            "Requirement already satisfied: nvidia-nvjitlink-cu12==12.4.127 in /usr/local/lib/python3.11/dist-packages (from torch->pgmpy) (12.4.127)\n",
            "Requirement already satisfied: triton==3.1.0 in /usr/local/lib/python3.11/dist-packages (from torch->pgmpy) (3.1.0)\n",
            "Requirement already satisfied: sympy==1.13.1 in /usr/local/lib/python3.11/dist-packages (from torch->pgmpy) (1.13.1)\n",
            "Requirement already satisfied: mpmath<1.4,>=1.1.0 in /usr/local/lib/python3.11/dist-packages (from sympy==1.13.1->torch->pgmpy) (1.3.0)\n",
            "Requirement already satisfied: googleapis-common-protos<2.0.dev0,>=1.56.2 in /usr/local/lib/python3.11/dist-packages (from google-api-core->google-generativeai->pgmpy) (1.68.0)\n",
            "Requirement already satisfied: requests<3.0.0.dev0,>=2.18.0 in /usr/local/lib/python3.11/dist-packages (from google-api-core->google-generativeai->pgmpy) (2.32.3)\n",
            "Requirement already satisfied: cachetools<6.0,>=2.0.0 in /usr/local/lib/python3.11/dist-packages (from google-auth>=2.15.0->google-generativeai->pgmpy) (5.5.2)\n",
            "Requirement already satisfied: pyasn1-modules>=0.2.1 in /usr/local/lib/python3.11/dist-packages (from google-auth>=2.15.0->google-generativeai->pgmpy) (0.4.1)\n",
            "Requirement already satisfied: rsa<5,>=3.1.4 in /usr/local/lib/python3.11/dist-packages (from google-auth>=2.15.0->google-generativeai->pgmpy) (4.9)\n",
            "Requirement already satisfied: six>=1.5 in /usr/local/lib/python3.11/dist-packages (from python-dateutil>=2.8.2->pandas->pgmpy) (1.17.0)\n",
            "Requirement already satisfied: httplib2<1.dev0,>=0.19.0 in /usr/local/lib/python3.11/dist-packages (from google-api-python-client->google-generativeai->pgmpy) (0.22.0)\n",
            "Requirement already satisfied: google-auth-httplib2<1.0.0,>=0.2.0 in /usr/local/lib/python3.11/dist-packages (from google-api-python-client->google-generativeai->pgmpy) (0.2.0)\n",
            "Requirement already satisfied: uritemplate<5,>=3.0.1 in /usr/local/lib/python3.11/dist-packages (from google-api-python-client->google-generativeai->pgmpy) (4.1.1)\n",
            "Requirement already satisfied: MarkupSafe>=2.0 in /usr/local/lib/python3.11/dist-packages (from jinja2->torch->pgmpy) (3.0.2)\n",
            "Requirement already satisfied: annotated-types>=0.6.0 in /usr/local/lib/python3.11/dist-packages (from pydantic->google-generativeai->pgmpy) (0.7.0)\n",
            "Requirement already satisfied: pydantic-core==2.27.2 in /usr/local/lib/python3.11/dist-packages (from pydantic->google-generativeai->pgmpy) (2.27.2)\n",
            "Requirement already satisfied: grpcio<2.0dev,>=1.33.2 in /usr/local/lib/python3.11/dist-packages (from google-api-core[grpc]!=2.0.*,!=2.1.*,!=2.10.*,!=2.2.*,!=2.3.*,!=2.4.*,!=2.5.*,!=2.6.*,!=2.7.*,!=2.8.*,!=2.9.*,<3.0.0dev,>=1.34.1->google-ai-generativelanguage==0.6.15->google-generativeai->pgmpy) (1.70.0)\n",
            "Requirement already satisfied: grpcio-status<2.0.dev0,>=1.33.2 in /usr/local/lib/python3.11/dist-packages (from google-api-core[grpc]!=2.0.*,!=2.1.*,!=2.10.*,!=2.2.*,!=2.3.*,!=2.4.*,!=2.5.*,!=2.6.*,!=2.7.*,!=2.8.*,!=2.9.*,<3.0.0dev,>=1.34.1->google-ai-generativelanguage==0.6.15->google-generativeai->pgmpy) (1.62.3)\n",
            "Requirement already satisfied: pyasn1<0.7.0,>=0.4.6 in /usr/local/lib/python3.11/dist-packages (from pyasn1-modules>=0.2.1->google-auth>=2.15.0->google-generativeai->pgmpy) (0.6.1)\n",
            "Requirement already satisfied: charset-normalizer<4,>=2 in /usr/local/lib/python3.11/dist-packages (from requests<3.0.0.dev0,>=2.18.0->google-api-core->google-generativeai->pgmpy) (3.4.1)\n",
            "Requirement already satisfied: idna<4,>=2.5 in /usr/local/lib/python3.11/dist-packages (from requests<3.0.0.dev0,>=2.18.0->google-api-core->google-generativeai->pgmpy) (3.10)\n",
            "Requirement already satisfied: urllib3<3,>=1.21.1 in /usr/local/lib/python3.11/dist-packages (from requests<3.0.0.dev0,>=2.18.0->google-api-core->google-generativeai->pgmpy) (2.3.0)\n",
            "Requirement already satisfied: certifi>=2017.4.17 in /usr/local/lib/python3.11/dist-packages (from requests<3.0.0.dev0,>=2.18.0->google-api-core->google-generativeai->pgmpy) (2025.1.31)\n"
          ]
        }
      ],
      "source": [
        "# We need to install two specific packages to handles graphs:\n",
        "!pip install networkx\n",
        "!pip install pgmpy"
      ]
    },
    {
      "cell_type": "code",
      "execution_count": null,
      "id": "c1d34ea3",
      "metadata": {
        "lines_to_next_cell": 0,
        "id": "c1d34ea3"
      },
      "outputs": [],
      "source": [
        "\n",
        "import networkx as nx\n",
        "from pgmpy.base.DAG import DAG\n",
        "import matplotlib.pyplot as plt\n",
        "import pandas as pd"
      ]
    },
    {
      "cell_type": "markdown",
      "id": "df8382d6",
      "metadata": {
        "lines_to_next_cell": 0,
        "id": "df8382d6"
      },
      "source": [
        "\n",
        "In this practical session, we will cover the following topics:\n",
        "- Graph Generation and Plotting\n",
        "- Simulation studies for common causal fallacies\n",
        "  - Fork paths\n",
        "  - Collider bias\n",
        "\n",
        "# Graph Generation and Plotting\n",
        "\n",
        "The following DAG is due to Judea Pearl.\n",
        "We will use it to illustrate how to generate a graph and plot it.\n",
        "We will also show how to compute the ancestors and descendants of a node."
      ]
    },
    {
      "cell_type": "code",
      "execution_count": 7,
      "id": "d3f40336",
      "metadata": {
        "lines_to_next_cell": 0,
        "id": "d3f40336"
      },
      "outputs": [],
      "source": [
        "digraph = nx.DiGraph(\n",
        "    [\n",
        "        (\"Z1\", \"X1\"),\n",
        "        (\"X1\", \"D\"),\n",
        "        (\"Z1\", \"X2\"),\n",
        "        (\"Z2\", \"X3\"),\n",
        "        (\"X3\", \"Y\"),\n",
        "        (\"Z2\", \"X2\"),\n",
        "        (\"X2\", \"Y\"),\n",
        "        (\"X2\", \"D\"),\n",
        "        (\"M\", \"Y\"),\n",
        "        (\"D\", \"M\"),\n",
        "    ]\n",
        ")"
      ]
    },
    {
      "cell_type": "code",
      "execution_count": 8,
      "id": "48f5369c",
      "metadata": {
        "lines_to_next_cell": 0,
        "id": "48f5369c"
      },
      "outputs": [],
      "source": [
        "G = DAG(digraph)"
      ]
    },
    {
      "cell_type": "code",
      "execution_count": 9,
      "id": "02e61ea5",
      "metadata": {
        "lines_to_next_cell": 0,
        "colab": {
          "base_uri": "https://localhost:8080/",
          "height": 516
        },
        "id": "02e61ea5",
        "outputId": "a0c770b7-aabf-48e1-f2b4-a47b7c43efd5"
      },
      "outputs": [
        {
          "output_type": "display_data",
          "data": {
            "text/plain": [
              "<Figure size 640x480 with 1 Axes>"
            ],
            "image/png": "[encoded data removed]"
          },
          "metadata": {}
        }
      ],
      "source": [
        "nx.draw_planar(G, with_labels=True)\n",
        "plt.show()"
      ]
    },
    {
      "cell_type": "code",
      "execution_count": 11,
      "id": "088ec75e",
      "metadata": {
        "lines_to_next_cell": 0,
        "colab": {
          "base_uri": "https://localhost:8080/"
        },
        "id": "088ec75e",
        "outputId": "b2e3f03f-7246-4950-a552-d03aae1818ff"
      },
      "outputs": [
        {
          "output_type": "stream",
          "name": "stdout",
          "text": [
            "['Z1', 'Z2']\n",
            "['Y', 'D']\n",
            "['Z1', 'Z2']\n",
            "['D', 'M', 'Y']\n"
          ]
        }
      ],
      "source": [
        "print(list(G.predecessors(\"X2\")))\n",
        "print(list(G.successors(\"X2\")))\n",
        "print(list(nx.ancestors(G, \"X2\")))\n",
        "print(list(nx.descendants(G, \"X2\")))"
      ]
    },
    {
      "cell_type": "code",
      "execution_count": 12,
      "id": "f73fdf8e",
      "metadata": {
        "colab": {
          "base_uri": "https://localhost:8080/"
        },
        "id": "f73fdf8e",
        "outputId": "1691671a-4ca5-4b88-b2a0-5ae6d71ee895"
      },
      "outputs": [
        {
          "output_type": "execute_result",
          "data": {
            "text/plain": [
              "[['D', 'X1', 'Z1', 'X2', 'Y'],\n",
              " ['D', 'X1', 'Z1', 'X2', 'Z2', 'X3', 'Y'],\n",
              " ['D', 'M', 'Y'],\n",
              " ['D', 'X2', 'Y'],\n",
              " ['D', 'X2', 'Z2', 'X3', 'Y']]"
            ]
          },
          "metadata": {},
          "execution_count": 12
        }
      ],
      "source": [
        "# Find Paths Between D and Y\n",
        "list(nx.all_simple_paths(G.to_undirected(), \"D\", \"Y\"))"
      ]
    },
    {
      "cell_type": "code",
      "execution_count": 13,
      "id": "79649547",
      "metadata": {
        "lines_to_next_cell": 0,
        "colab": {
          "base_uri": "https://localhost:8080/"
        },
        "id": "79649547",
        "outputId": "9160a2e4-2dea-4c8e-9c9e-0f81cc912d56"
      },
      "outputs": [
        {
          "output_type": "stream",
          "name": "stdout",
          "text": [
            "(M ⟂ X3 | Z2)\n",
            "(M ⟂ X3 | X1, Z2)\n",
            "(M ⟂ X3 | Z1, Z2)\n",
            "(M ⟂ X3 | X2, Z2)\n",
            "(M ⟂ X3 | X1, Z1, Z2)\n",
            "(M ⟂ Z2 | X2, X3, Z1)\n",
            "(M ⟂ X3 | X2, Z1, Z2)\n",
            "(M ⟂ X1 | D, Y, X2, Z1)\n",
            "(M ⟂ Z2 | X2, X1, X3, Z1)\n",
            "(M ⟂ Z1 | X2, X1, X3, Z2)\n",
            "(M ⟂ X3 | X2, X1, Z1, Z2)\n",
            "(M ⟂ Z1 | X2, X1, Y, Z2)\n",
            "(M ⟂ Z2 | X2, Y, X3, Z1)\n",
            "(M ⟂ Z2 | X2, X1, X3, Z1, D)\n",
            "(M ⟂ X2 | Z2, X1, X3, Z1, D)\n",
            "(M ⟂ Z1 | X2, Z2, X1, X3, D)\n",
            "(M ⟂ X3 | X2, Z2, X1, Z1, D)\n",
            "(M ⟂ Z1 | X2, Z2, X1, Y, D)\n",
            "(M ⟂ X1 | X2, Z2, X3, Z1, D)\n",
            "(M ⟂ X1 | X2, Z2, Y, Z1, D)\n",
            "(M ⟂ Z2 | X2, X1, X3, Y, Z1)\n",
            "(M ⟂ Z1 | X2, Z2, X1, X3, Y)\n",
            "(M ⟂ Z2 | X2, X1, X3, Y, Z1, D)\n",
            "(M ⟂ Z1 | X2, Z2, X1, X3, Y, D)\n",
            "(M ⟂ X1 | X2, Z2, X3, Y, Z1, D)\n",
            "(X2 ⟂ X1 | Z1)\n",
            "(X2 ⟂ M | D)\n",
            "(X2 ⟂ X3 | Z2)\n",
            "(X2 ⟂ X3 | M, Z2)\n",
            "(X2 ⟂ M | D, X1)\n",
            "(X2 ⟂ X3 | X1, Z2)\n",
            "(X2 ⟂ X1 | X3, Z1)\n",
            "(X2 ⟂ M | D, X3)\n",
            "(X2 ⟂ M | D, Z1)\n",
            "(X2 ⟂ X3 | M, X1, Z2)\n",
            "(X2 ⟂ X3 | M, Z1, Z2)\n",
            "(X2 ⟂ X3 | D, M, Z2)\n",
            "(X2 ⟂ M | D, X1, X3)\n",
            "(X2 ⟂ M | D, X1, Z1)\n",
            "(X2 ⟂ X3 | X1, Z1, Z2)\n",
            "(X2 ⟂ M | D, X3, Z1)\n",
            "(X2 ⟂ X1 | X3, Z1, Z2)\n",
            "(X2 ⟂ M | D, X3, Z2)\n",
            "(X2 ⟂ X3 | M, X1, Z1, Z2)\n",
            "(X2 ⟂ X3 | D, M, X1, Z2)\n",
            "(X2 ⟂ X3 | D, M, Z1, Z2)\n",
            "(X2 ⟂ M | D, X1, X3, Z1)\n",
            "(X2 ⟂ M | D, X1, X3, Z2)\n",
            "(X2 ⟂ M | D, X3, Z1, Z2)\n",
            "(X2 ⟂ X3 | M, Z2, X1, Z1, D)\n",
            "(X2 ⟂ M | Z2, X1, X3, Z1, D)\n",
            "(Z2 ⟂ M | D)\n",
            "(Z2 ⟂ Z1 | X1)\n",
            "(Z2 ⟂ X1 | Z1)\n",
            "(Z2 ⟂ M | D, X1)\n",
            "(Z2 ⟂ M | D, X3)\n",
            "(Z2 ⟂ M | D, Z1)\n",
            "(Z2 ⟂ M | D, X2)\n",
            "(Z2 ⟂ Z1 | X1, X3)\n",
            "(Z2 ⟂ X1 | X3, Z1)\n",
            "(Z2 ⟂ M | D, X1, X3)\n",
            "(Z2 ⟂ M | D, X1, Z1)\n",
            "(Z2 ⟂ M | D, X1, X2)\n",
            "(Z2 ⟂ M | D, X3, Z1)\n",
            "(Z2 ⟂ D | X2, M, X1)\n",
            "(Z2 ⟂ Y | X2, M, X3)\n",
            "(Z2 ⟂ Y | D, M, X2, X3)\n",
            "(Z2 ⟂ X1 | D, M, X2, Z1)\n",
            "(Z2 ⟂ M | D, X1, X3, Z1)\n",
            "(Z2 ⟂ M | D, X1, X2, Z1)\n",
            "(Z2 ⟂ M | D, X2, X3, Y)\n",
            "(Z2 ⟂ X1 | D, Y, X2, Z1)\n",
            "(Z2 ⟂ D | X2, M, X1, Z1)\n",
            "(Z2 ⟂ D | X2, M, X1, Y)\n",
            "(Z2 ⟂ Y | M, X2, X1, X3, D)\n",
            "(Z2 ⟂ X1 | M, X2, Y, Z1, D)\n",
            "(Z2 ⟂ M | X2, X1, X3, Y, D)\n",
            "(Z2 ⟂ D | M, X2, X1, X3, Y)\n",
            "(Z2 ⟂ D | M, X2, X1, Y, Z1)\n",
            "(Z2 ⟂ Y | M, X2, X1, X3, Z1, D)\n",
            "(Z2 ⟂ X1 | M, X2, X3, Y, Z1, D)\n",
            "(Z2 ⟂ M | X2, X1, X3, Y, Z1, D)\n",
            "(Z2 ⟂ D | M, X2, X1, X3, Y, Z1)\n",
            "(X1 ⟂ M | D)\n",
            "(X1 ⟂ Z2 | X3)\n",
            "(X1 ⟂ X3 | Z2)\n",
            "(X1 ⟂ M | D, X3)\n",
            "(X1 ⟂ M | D, Z1)\n",
            "(X1 ⟂ M | D, X2)\n",
            "(X1 ⟂ X3 | M, Z2)\n",
            "(X1 ⟂ X3 | X2, Z2)\n",
            "(X1 ⟂ X3 | D, M, Z2)\n",
            "(X1 ⟂ M | D, X3, Z1)\n",
            "(X1 ⟂ M | D, X3, Z2)\n",
            "(X1 ⟂ Y | X2, M, X3)\n",
            "(X1 ⟂ X3 | M, Z1, Z2)\n",
            "(X1 ⟂ Z2 | X2, X3, Z1)\n",
            "(X1 ⟂ X2 | X3, Z1, Z2)\n",
            "(X1 ⟂ X3 | X2, Z1, Z2)\n",
            "(X1 ⟂ Y | D, M, X2, X3)\n",
            "(X1 ⟂ X3 | D, M, Z1, Z2)\n",
            "(X1 ⟂ M | D, X3, Z1, Z2)\n",
            "(X1 ⟂ M | D, X2, X3, Y)\n",
            "(X1 ⟂ Y | X2, M, X3, Z2)\n",
            "(X1 ⟂ X3 | X2, M, Y, Z2)\n",
            "(X1 ⟂ Z2 | X2, Y, X3, Z1)\n",
            "(X1 ⟂ Y | M, X2, Z2, X3, D)\n",
            "(X1 ⟂ X3 | M, X2, Z2, Y, D)\n",
            "(X1 ⟂ M | X2, Z2, X3, Y, D)\n",
            "(X1 ⟂ Z2 | M, X2, X3, Y, Z1)\n",
            "(X1 ⟂ Y | M, X2, Z2, X3, Z1)\n",
            "(X1 ⟂ X3 | M, X2, Z2, Y, Z1)\n",
            "(X1 ⟂ Z2 | M, X2, X3, Y, Z1, D)\n",
            "(X1 ⟂ Y | M, X2, Z2, X3, Z1, D)\n",
            "(X1 ⟂ X3 | M, X2, Z2, Y, Z1, D)\n",
            "(X1 ⟂ M | X2, Z2, X3, Y, Z1, D)\n",
            "(X3 ⟂ M | D)\n",
            "(X3 ⟂ Z1 | X1)\n",
            "(X3 ⟂ X1 | Z1)\n",
            "(X3 ⟂ M | D, X1)\n",
            "(X3 ⟂ M | D, Z1)\n",
            "(X3 ⟂ M | D, X2)\n",
            "(X3 ⟂ M | D, X1, Z1)\n",
            "(X3 ⟂ M | D, X1, X2)\n",
            "(X3 ⟂ D | X2, M, X1)\n",
            "(X3 ⟂ X1 | D, M, X2, Z1)\n",
            "(X3 ⟂ M | D, X1, X2, Z1)\n",
            "(X3 ⟂ X1 | D, Y, X2, Z1)\n",
            "(X3 ⟂ D | X2, M, X1, Z1)\n",
            "(X3 ⟂ D | X2, M, X1, Y)\n",
            "(X3 ⟂ Z1 | X2, X1, Y, Z2)\n",
            "(X3 ⟂ X2 | M, Z2, X1, Z1, D)\n",
            "(X3 ⟂ Z1 | M, X2, Z2, X1, D)\n",
            "(X3 ⟂ X1 | M, X2, Y, Z1, D)\n",
            "(X3 ⟂ X1 | M, X2, Z2, Z1, D)\n",
            "(X3 ⟂ M | X2, Z2, X1, Z1, D)\n",
            "(X3 ⟂ Z1 | X2, Z2, X1, Y, D)\n",
            "(X3 ⟂ X1 | X2, Z2, Y, Z1, D)\n",
            "(X3 ⟂ D | M, X2, X1, Y, Z1)\n",
            "(X3 ⟂ D | M, X2, Z2, X1, Z1)\n",
            "(X3 ⟂ Z1 | M, X2, Z2, X1, Y, D)\n",
            "(X3 ⟂ X1 | M, X2, Z2, Y, Z1, D)\n",
            "(X3 ⟂ D | M, X2, Z2, X1, Y, Z1)\n",
            "(Z1 ⟂ M | D)\n",
            "(Z1 ⟂ Z2 | X3)\n",
            "(Z1 ⟂ X3 | Z2)\n",
            "(Z1 ⟂ M | D, X1)\n",
            "(Z1 ⟂ M | D, X3)\n",
            "(Z1 ⟂ M | D, X2)\n",
            "(Z1 ⟂ X3 | M, Z2)\n",
            "(Z1 ⟂ Z2 | X1, X3)\n",
            "(Z1 ⟂ X3 | X1, Z2)\n",
            "(Z1 ⟂ X3 | X2, Z2)\n",
            "(Z1 ⟂ X3 | D, M, Z2)\n",
            "(Z1 ⟂ M | D, X1, X3)\n",
            "(Z1 ⟂ M | D, X1, X2)\n",
            "(Z1 ⟂ M | D, X3, Z2)\n",
            "(Z1 ⟂ D | X2, M, X1)\n",
            "(Z1 ⟂ X3 | M, X1, Z2)\n",
            "(Z1 ⟂ Y | X2, M, X3)\n",
            "(Z1 ⟂ X3 | D, M, X1, Z2)\n",
            "(Z1 ⟂ Y | D, M, X2, X3)\n",
            "(Z1 ⟂ M | D, X1, X3, Z2)\n",
            "(Z1 ⟂ M | D, X2, X3, Y)\n",
            "(Z1 ⟂ D | X2, M, X1, Y)\n",
            "(Z1 ⟂ Y | X2, M, X3, Z2)\n",
            "(Z1 ⟂ X3 | X2, M, Y, Z2)\n",
            "(Z1 ⟂ Y | M, X2, X1, X3, D)\n",
            "(Z1 ⟂ Y | M, X2, Z2, X3, D)\n",
            "(Z1 ⟂ X3 | M, X2, Z2, Y, D)\n",
            "(Z1 ⟂ M | X2, X1, X3, Y, D)\n",
            "(Z1 ⟂ M | X2, Z2, X3, Y, D)\n",
            "(Z1 ⟂ D | M, X2, X1, X3, Y)\n",
            "(Z1 ⟂ Y | M, X2, Z2, X1, X3, D)\n",
            "(Z1 ⟂ X3 | M, X2, Z2, X1, Y, D)\n",
            "(Z1 ⟂ M | X2, Z2, X1, X3, Y, D)\n",
            "(Z1 ⟂ D | M, X2, Z2, X1, X3, Y)\n",
            "(Y ⟂ X1 | D, X2, Z1)\n",
            "(Y ⟂ D | X2, M, X1)\n",
            "(Y ⟂ Z1 | X2, X1, Z2)\n",
            "(Y ⟂ Z2 | X2, X3, Z1)\n",
            "(Y ⟂ X1 | D, M, X2, Z1)\n",
            "(Y ⟂ Z1 | D, X1, X2, Z2)\n",
            "(Y ⟂ X1 | D, X2, Z1, Z2)\n",
            "(Y ⟂ D | X2, M, X1, Z1)\n",
            "(Y ⟂ Z2 | X2, X1, X3, Z1)\n",
            "(Y ⟂ Z1 | X2, X1, X3, Z2)\n",
            "(Y ⟂ Z1 | M, X2, Z2, X1, D)\n",
            "(Y ⟂ X1 | M, X2, Z2, Z1, D)\n",
            "(Y ⟂ Z2 | X2, X1, X3, Z1, D)\n",
            "(Y ⟂ Z1 | X2, Z2, X1, X3, D)\n",
            "(Y ⟂ X1 | X2, Z2, X3, Z1, D)\n",
            "(Y ⟂ D | M, X2, Z2, X1, Z1)\n",
            "(Y ⟂ Z2 | M, X2, X1, X3, Z1, D)\n",
            "(Y ⟂ Z1 | M, X2, Z2, X1, X3, D)\n",
            "(Y ⟂ X1 | M, X2, Z2, X3, Z1, D)\n",
            "(Y ⟂ D | M, X2, Z2, X1, X3, Z1)\n",
            "(D ⟂ X3 | Z2)\n",
            "(D ⟂ X3 | M, Z2)\n",
            "(D ⟂ X3 | X1, Z2)\n",
            "(D ⟂ X3 | Z1, Z2)\n",
            "(D ⟂ X3 | X2, Z2)\n",
            "(D ⟂ X3 | M, X1, Z2)\n",
            "(D ⟂ Y | X2, M, X3)\n",
            "(D ⟂ X3 | M, Z1, Z2)\n",
            "(D ⟂ X3 | X1, Z1, Z2)\n",
            "(D ⟂ Z2 | X2, X3, Z1)\n",
            "(D ⟂ X3 | X2, Z1, Z2)\n",
            "(D ⟂ X3 | M, X1, Z1, Z2)\n",
            "(D ⟂ Y | X2, M, X3, Z2)\n",
            "(D ⟂ X3 | X2, M, Y, Z2)\n",
            "(D ⟂ Z2 | X2, X1, X3, Z1)\n",
            "(D ⟂ Z1 | X2, X1, X3, Z2)\n",
            "(D ⟂ X3 | X2, X1, Z1, Z2)\n",
            "(D ⟂ Z1 | X2, X1, Y, Z2)\n",
            "(D ⟂ Z2 | X2, Y, X3, Z1)\n",
            "(D ⟂ Z2 | M, X2, X3, Y, Z1)\n",
            "(D ⟂ Y | M, X2, Z2, X3, Z1)\n",
            "(D ⟂ X3 | M, X2, Z2, Y, Z1)\n",
            "(D ⟂ Z2 | X2, X1, X3, Y, Z1)\n",
            "(D ⟂ Z1 | X2, Z2, X1, X3, Y)\n",
            "(D ⟂ Z2 | M, X2, X1, X3, Y, Z1)\n",
            "(D ⟂ Y | M, X2, Z2, X1, X3, Z1)\n",
            "(D ⟂ Z1 | M, X2, Z2, X1, X3, Y)\n",
            "(D ⟂ X3 | M, X2, Z2, X1, Y, Z1)\n"
          ]
        }
      ],
      "source": [
        "# These returns all conditional independencies even among two sets of variables\n",
        "# conditional on a third set\n",
        "dseps = G.get_independencies()\n",
        "# we display only the ones that correpond to pairs of singletons\n",
        "for dsep in dseps.get_assertions():\n",
        "    if len(dsep.get_assertion()[1]) == 1:\n",
        "        print(dsep)"
      ]
    },
    {
      "cell_type": "markdown",
      "id": "e78bb592",
      "metadata": {
        "lines_to_next_cell": 0,
        "id": "e78bb592"
      },
      "source": [
        "# Simulation studies\n",
        "\n",
        "## A fork of icecream under the sun\n",
        "\n",
        "[Credits to Prof. Reza Arghandeh](https://github.com/Ci2Lab/Applied_Causal_Inference_Course/blob/main/lectures/CH-3-Graphical-Causal-Models.ipynb)\n",
        "\n",
        "In hot summer months, people tend to consume more ice cream and are also more\n",
        "likely to get sunburns. While it might seem that Ice Cream Consumption (I) and\n",
        " Number of Sunburns (S) are related, this relationship is actually driven by a\n",
        "third variable, Hot Temperature (H).\n",
        "\n",
        "### Causal graph for icecream and sunburns\n",
        "\n",
        "- TODO: Draw the causal graph corresponding to the causal relationships\n",
        "between these variables."
      ]
    },
    {
      "cell_type": "code",
      "execution_count": 15,
      "id": "61943069",
      "metadata": {
        "lines_to_next_cell": 0,
        "colab": {
          "base_uri": "https://localhost:8080/",
          "height": 516
        },
        "id": "61943069",
        "outputId": "ea3fc4f5-de69-4724-c300-93f2b419f0d0"
      },
      "outputs": [
        {
          "output_type": "display_data",
          "data": {
            "text/plain": [
              "<Figure size 640x480 with 1 Axes>"
            ],
            "image/png": "[encoded data removed]"
          },
          "metadata": {}
        }
      ],
      "source": [
        "# CODE HERE\n",
        "\n",
        "digraph2 = nx.DiGraph(\n",
        "    [\n",
        "        (\"H\", \"I\"),\n",
        "        (\"H\", \"S\")\n",
        "    ]\n",
        ")\n",
        "\n",
        "G2 = DAG(digraph2)\n",
        "\n",
        "nx.draw_planar(G2, with_labels=True)\n",
        "plt.show()"
      ]
    },
    {
      "cell_type": "markdown",
      "id": "d3ab9ee5",
      "metadata": {
        "lines_to_next_cell": 0,
        "id": "d3ab9ee5"
      },
      "source": [
        "### Simulate the data for icecream and sunburns\n",
        "Let's generate synthetic data for the three variables:"
      ]
    },
    {
      "cell_type": "code",
      "execution_count": 16,
      "id": "aafcc11b",
      "metadata": {
        "lines_to_next_cell": 0,
        "colab": {
          "base_uri": "https://localhost:8080/",
          "height": 206
        },
        "id": "aafcc11b",
        "outputId": "fbd9d945-acbb-4138-9741-b5021caf0e0d"
      },
      "outputs": [
        {
          "output_type": "execute_result",
          "data": {
            "text/plain": [
              "   hot_temperature  ice_cream_consumption  number_sunburns\n",
              "0        32.483571              57.890288        49.798718\n",
              "1        29.308678              56.514130        45.645371\n",
              "2        33.238443              64.763313        53.106818\n",
              "3        37.615149              71.218912        59.584130\n",
              "4        28.829233              56.852038        39.110842"
            ],
            "text/html": [
              "\n",
              "  <div id=\"df-a1d8393b-2082-4daa-a03e-0d6d6915c280\" class=\"colab-df-container\">\n",
              "    <div>\n",
              "<style scoped>\n",
              "    .dataframe tbody tr th:only-of-type {\n",
              "        vertical-align: middle;\n",
              "    }\n",
              "\n",
              "    .dataframe tbody tr th {\n",
              "        vertical-align: top;\n",
              "    }\n",
              "\n",
              "    .dataframe thead th {\n",
              "        text-align: right;\n",
              "    }\n",
              "</style>\n",
              "<table border=\"1\" class=\"dataframe\">\n",
              "  <thead>\n",
              "    <tr style=\"text-align: right;\">\n",
              "      <th></th>\n",
              "      <th>hot_temperature</th>\n",
              "      <th>ice_cream_consumption</th>\n",
              "      <th>number_sunburns</th>\n",
              "    </tr>\n",
              "  </thead>\n",
              "  <tbody>\n",
              "    <tr>\n",
              "      <th>0</th>\n",
              "      <td>32.483571</td>\n",
              "      <td>57.890288</td>\n",
              "      <td>49.798718</td>\n",
              "    </tr>\n",
              "    <tr>\n",
              "      <th>1</th>\n",
              "      <td>29.308678</td>\n",
              "      <td>56.514130</td>\n",
              "      <td>45.645371</td>\n",
              "    </tr>\n",
              "    <tr>\n",
              "      <th>2</th>\n",
              "      <td>33.238443</td>\n",
              "      <td>64.763313</td>\n",
              "      <td>53.106818</td>\n",
              "    </tr>\n",
              "    <tr>\n",
              "      <th>3</th>\n",
              "      <td>37.615149</td>\n",
              "      <td>71.218912</td>\n",
              "      <td>59.584130</td>\n",
              "    </tr>\n",
              "    <tr>\n",
              "      <th>4</th>\n",
              "      <td>28.829233</td>\n",
              "      <td>56.852038</td>\n",
              "      <td>39.110842</td>\n",
              "    </tr>\n",
              "  </tbody>\n",
              "</table>\n",
              "</div>\n",
              "    <div class=\"colab-df-buttons\">\n",
              "\n",
              "  <div class=\"colab-df-container\">\n",
              "    <button class=\"colab-df-convert\" onclick=\"convertToInteractive('df-a1d8393b-2082-4daa-a03e-0d6d6915c280')\"\n",
              "            title=\"Convert this dataframe to an interactive table.\"\n",
              "            style=\"display:none;\">\n",
              "\n",
              "  <svg xmlns=\"http://www.w3.org/2000/svg\" height=\"24px\" viewBox=\"0 -960 960 960\">\n",
              "    <path d=\"M120-120v-720h720v720H120Zm60-500h600v-160H180v160Zm220 220h160v-160H400v160Zm0 220h160v-160H400v160ZM180-400h160v-160H180v160Zm440 0h160v-160H620v160ZM180-180h160v-160H180v160Zm440 0h160v-160H620v160Z\"/>\n",
              "  </svg>\n",
              "    </button>\n",
              "\n",
              "  <style>\n",
              "    .colab-df-container {\n",
              "      display:flex;\n",
              "      gap: 12px;\n",
              "    }\n",
              "\n",
              "    .colab-df-convert {\n",
              "      background-color: #E8F0FE;\n",
              "      border: none;\n",
              "      border-radius: 50%;\n",
              "      cursor: pointer;\n",
              "      display: none;\n",
              "      fill: #1967D2;\n",
              "      height: 32px;\n",
              "      padding: 0 0 0 0;\n",
              "      width: 32px;\n",
              "    }\n",
              "\n",
              "    .colab-df-convert:hover {\n",
              "      background-color: #E2EBFA;\n",
              "      box-shadow: 0px 1px 2px rgba(60, 64, 67, 0.3), 0px 1px 3px 1px rgba(60, 64, 67, 0.15);\n",
              "      fill: #174EA6;\n",
              "    }\n",
              "\n",
              "    .colab-df-buttons div {\n",
              "      margin-bottom: 4px;\n",
              "    }\n",
              "\n",
              "    [theme=dark] .colab-df-convert {\n",
              "      background-color: #3B4455;\n",
              "      fill: #D2E3FC;\n",
              "    }\n",
              "\n",
              "    [theme=dark] .colab-df-convert:hover {\n",
              "      background-color: #434B5C;\n",
              "      box-shadow: 0px 1px 3px 1px rgba(0, 0, 0, 0.15);\n",
              "      filter: drop-shadow(0px 1px 2px rgba(0, 0, 0, 0.3));\n",
              "      fill: #FFFFFF;\n",
              "    }\n",
              "  </style>\n",
              "\n",
              "    <script>\n",
              "      const buttonEl =\n",
              "        document.querySelector('#df-a1d8393b-2082-4daa-a03e-0d6d6915c280 button.colab-df-convert');\n",
              "      buttonEl.style.display =\n",
              "        google.colab.kernel.accessAllowed ? 'block' : 'none';\n",
              "\n",
              "      async function convertToInteractive(key) {\n",
              "        const element = document.querySelector('#df-a1d8393b-2082-4daa-a03e-0d6d6915c280');\n",
              "        const dataTable =\n",
              "          await google.colab.kernel.invokeFunction('convertToInteractive',\n",
              "                                                    [key], {});\n",
              "        if (!dataTable) return;\n",
              "\n",
              "        const docLinkHtml = 'Like what you see? Visit the ' +\n",
              "          '<a target=\"_blank\" href=https://colab.research.google.com/notebooks/data_table.ipynb>data table notebook</a>'\n",
              "          + ' to learn more about interactive tables.';\n",
              "        element.innerHTML = '';\n",
              "        dataTable['output_type'] = 'display_data';\n",
              "        await google.colab.output.renderOutput(dataTable, element);\n",
              "        const docLink = document.createElement('div');\n",
              "        docLink.innerHTML = docLinkHtml;\n",
              "        element.appendChild(docLink);\n",
              "      }\n",
              "    </script>\n",
              "  </div>\n",
              "\n",
              "\n",
              "<div id=\"df-4816b884-1c15-467f-8dee-37351a5fd372\">\n",
              "  <button class=\"colab-df-quickchart\" onclick=\"quickchart('df-4816b884-1c15-467f-8dee-37351a5fd372')\"\n",
              "            title=\"Suggest charts\"\n",
              "            style=\"display:none;\">\n",
              "\n",
              "<svg xmlns=\"http://www.w3.org/2000/svg\" height=\"24px\"viewBox=\"0 0 24 24\"\n",
              "     width=\"24px\">\n",
              "    <g>\n",
              "        <path d=\"M19 3H5c-1.1 0-2 .9-2 2v14c0 1.1.9 2 2 2h14c1.1 0 2-.9 2-2V5c0-1.1-.9-2-2-2zM9 17H7v-7h2v7zm4 0h-2V7h2v10zm4 0h-2v-4h2v4z\"/>\n",
              "    </g>\n",
              "</svg>\n",
              "  </button>\n",
              "\n",
              "<style>\n",
              "  .colab-df-quickchart {\n",
              "      --bg-color: #E8F0FE;\n",
              "      --fill-color: #1967D2;\n",
              "      --hover-bg-color: #E2EBFA;\n",
              "      --hover-fill-color: #174EA6;\n",
              "      --disabled-fill-color: #AAA;\n",
              "      --disabled-bg-color: #DDD;\n",
              "  }\n",
              "\n",
              "  [theme=dark] .colab-df-quickchart {\n",
              "      --bg-color: #3B4455;\n",
              "      --fill-color: #D2E3FC;\n",
              "      --hover-bg-color: #434B5C;\n",
              "      --hover-fill-color: #FFFFFF;\n",
              "      --disabled-bg-color: #3B4455;\n",
              "      --disabled-fill-color: #666;\n",
              "  }\n",
              "\n",
              "  .colab-df-quickchart {\n",
              "    background-color: var(--bg-color);\n",
              "    border: none;\n",
              "    border-radius: 50%;\n",
              "    cursor: pointer;\n",
              "    display: none;\n",
              "    fill: var(--fill-color);\n",
              "    height: 32px;\n",
              "    padding: 0;\n",
              "    width: 32px;\n",
              "  }\n",
              "\n",
              "  .colab-df-quickchart:hover {\n",
              "    background-color: var(--hover-bg-color);\n",
              "    box-shadow: 0 1px 2px rgba(60, 64, 67, 0.3), 0 1px 3px 1px rgba(60, 64, 67, 0.15);\n",
              "    fill: var(--button-hover-fill-color);\n",
              "  }\n",
              "\n",
              "  .colab-df-quickchart-complete:disabled,\n",
              "  .colab-df-quickchart-complete:disabled:hover {\n",
              "    background-color: var(--disabled-bg-color);\n",
              "    fill: var(--disabled-fill-color);\n",
              "    box-shadow: none;\n",
              "  }\n",
              "\n",
              "  .colab-df-spinner {\n",
              "    border: 2px solid var(--fill-color);\n",
              "    border-color: transparent;\n",
              "    border-bottom-color: var(--fill-color);\n",
              "    animation:\n",
              "      spin 1s steps(1) infinite;\n",
              "  }\n",
              "\n",
              "  @keyframes spin {\n",
              "    0% {\n",
              "      border-color: transparent;\n",
              "      border-bottom-color: var(--fill-color);\n",
              "      border-left-color: var(--fill-color);\n",
              "    }\n",
              "    20% {\n",
              "      border-color: transparent;\n",
              "      border-left-color: var(--fill-color);\n",
              "      border-top-color: var(--fill-color);\n",
              "    }\n",
              "    30% {\n",
              "      border-color: transparent;\n",
              "      border-left-color: var(--fill-color);\n",
              "      border-top-color: var(--fill-color);\n",
              "      border-right-color: var(--fill-color);\n",
              "    }\n",
              "    40% {\n",
              "      border-color: transparent;\n",
              "      border-right-color: var(--fill-color);\n",
              "      border-top-color: var(--fill-color);\n",
              "    }\n",
              "    60% {\n",
              "      border-color: transparent;\n",
              "      border-right-color: var(--fill-color);\n",
              "    }\n",
              "    80% {\n",
              "      border-color: transparent;\n",
              "      border-right-color: var(--fill-color);\n",
              "      border-bottom-color: var(--fill-color);\n",
              "    }\n",
              "    90% {\n",
              "      border-color: transparent;\n",
              "      border-bottom-color: var(--fill-color);\n",
              "    }\n",
              "  }\n",
              "</style>\n",
              "\n",
              "  <script>\n",
              "    async function quickchart(key) {\n",
              "      const quickchartButtonEl =\n",
              "        document.querySelector('#' + key + ' button');\n",
              "      quickchartButtonEl.disabled = true;  // To prevent multiple clicks.\n",
              "      quickchartButtonEl.classList.add('colab-df-spinner');\n",
              "      try {\n",
              "        const charts = await google.colab.kernel.invokeFunction(\n",
              "            'suggestCharts', [key], {});\n",
              "      } catch (error) {\n",
              "        console.error('Error during call to suggestCharts:', error);\n",
              "      }\n",
              "      quickchartButtonEl.classList.remove('colab-df-spinner');\n",
              "      quickchartButtonEl.classList.add('colab-df-quickchart-complete');\n",
              "    }\n",
              "    (() => {\n",
              "      let quickchartButtonEl =\n",
              "        document.querySelector('#df-4816b884-1c15-467f-8dee-37351a5fd372 button');\n",
              "      quickchartButtonEl.style.display =\n",
              "        google.colab.kernel.accessAllowed ? 'block' : 'none';\n",
              "    })();\n",
              "  </script>\n",
              "</div>\n",
              "\n",
              "    </div>\n",
              "  </div>\n"
            ],
            "application/vnd.google.colaboratory.intrinsic+json": {
              "type": "dataframe",
              "variable_name": "data",
              "summary": "{\n  \"name\": \"data\",\n  \"rows\": 100,\n  \"fields\": [\n    {\n      \"column\": \"hot_temperature\",\n      \"properties\": {\n        \"dtype\": \"number\",\n        \"std\": 4.540842140039003,\n        \"min\": 16.901274479551276,\n        \"max\": 39.26139092254469,\n        \"num_unique_values\": 100,\n        \"samples\": [\n          27.40864890863176,\n          33.058381444204336,\n          31.80697802754207\n        ],\n        \"semantic_type\": \"\",\n        \"description\": \"\"\n      }\n    },\n    {\n      \"column\": \"ice_cream_consumption\",\n      \"properties\": {\n        \"dtype\": \"number\",\n        \"std\": 9.66429937996806,\n        \"min\": 35.18600295575265,\n        \"max\": 85.22305766112656,\n        \"num_unique_values\": 100,\n        \"samples\": [\n          57.22965989347945,\n          67.2780313742137,\n          59.166383906956526\n        ],\n        \"semantic_type\": \"\",\n        \"description\": \"\"\n      }\n    },\n    {\n      \"column\": \"number_sunburns\",\n      \"properties\": {\n        \"dtype\": \"number\",\n        \"std\": 8.0889327017747,\n        \"min\": 22.40738576618306,\n        \"max\": 62.93634146693218,\n        \"num_unique_values\": 100,\n        \"samples\": [\n          37.39952686646709,\n          52.68496794795994,\n          52.03428690851145\n        ],\n        \"semantic_type\": \"\",\n        \"description\": \"\"\n      }\n    }\n  ]\n}"
            }
          },
          "metadata": {},
          "execution_count": 16
        }
      ],
      "source": [
        "import numpy as np\n",
        "import pandas as pd\n",
        "import matplotlib.pyplot as plt\n",
        "import seaborn as sns\n",
        "\n",
        "# Set seed for reproducibility\n",
        "np.random.seed(42)\n",
        "\n",
        "# Simulating Hot Temperature (T)\n",
        "hot_temperature = np.random.normal(\n",
        "    loc=30, scale=5, size=100\n",
        ")  # Average temperature of 30 degrees with some variation\n",
        "\n",
        "# Simulating Ice Cream Consumption (I) based on Temperature (T)\n",
        "ice_cream_consumption = 2 * hot_temperature + np.random.normal(\n",
        "    loc=0, scale=5, size=100\n",
        ")  # Higher temperature, more ice cream\n",
        "\n",
        "# Simulating Number of Sunburns (S) based on Temperature (T)\n",
        "number_of_sunburns = 1.5 * hot_temperature + np.random.normal(\n",
        "    loc=0, scale=3, size=100\n",
        ")  # Higher temperature, more sunburns\n",
        "\n",
        "# Creating a DataFrame for the data\n",
        "data = pd.DataFrame(\n",
        "    {\n",
        "        \"hot_temperature\": hot_temperature,\n",
        "        \"ice_cream_consumption\": ice_cream_consumption,\n",
        "        \"number_sunburns\": number_of_sunburns,\n",
        "    }\n",
        ")\n",
        "\n",
        "# Display the first few rows of the dataset\n",
        "data.head()"
      ]
    },
    {
      "cell_type": "markdown",
      "id": "04df3b14",
      "metadata": {
        "lines_to_next_cell": 0,
        "id": "04df3b14"
      },
      "source": [
        "### Visualize the relationships between icecream and sunburns\n",
        "We now use a scatter plot matrix to visualize the pairwise relationships\n",
        "between Hot Temperature, Ice Cream Consumption, and Number of Sunburns.\n",
        "- TODO: Visualize the scatter plot matrix for the data. You can use the\n",
        "pairplot function from seaborn."
      ]
    },
    {
      "cell_type": "code",
      "execution_count": 18,
      "id": "24f4664f",
      "metadata": {
        "lines_to_next_cell": 0,
        "colab": {
          "base_uri": "https://localhost:8080/",
          "height": 758
        },
        "id": "24f4664f",
        "outputId": "c49643b8-5199-43fc-b957-ef488413375a"
      },
      "outputs": [
        {
          "output_type": "display_data",
          "data": {
            "text/plain": [
              "<Figure size 750x750 with 12 Axes>"
            ],
            "image/png": "[encoded data removed]"
          },
          "metadata": {}
        }
      ],
      "source": [
        "# CODE HERE\n",
        "# Creating the scatter plot matrix\n",
        "sns.pairplot(data)\n",
        "plt.show()"
      ]
    },
    {
      "cell_type": "markdown",
      "id": "8424c292",
      "metadata": {
        "lines_to_next_cell": 0,
        "id": "8424c292"
      },
      "source": [
        "### Regression analysis for icecream and sunburns\n",
        "First let's begin by a naive regression analysis between Ice Cream Consumption\n",
        " and Number of Sunburns."
      ]
    },
    {
      "cell_type": "code",
      "execution_count": 19,
      "id": "43de3ab3",
      "metadata": {
        "lines_to_next_cell": 0,
        "colab": {
          "base_uri": "https://localhost:8080/"
        },
        "id": "43de3ab3",
        "outputId": "ff8fc2fc-e693-48d2-82ef-c35a6605679c"
      },
      "outputs": [
        {
          "output_type": "stream",
          "name": "stdout",
          "text": [
            "                            OLS Regression Results                            \n",
            "==============================================================================\n",
            "Dep. Variable:        number_sunburns   R-squared:                       0.639\n",
            "Model:                            OLS   Adj. R-squared:                  0.635\n",
            "Method:                 Least Squares   F-statistic:                     173.6\n",
            "Date:                Tue, 04 Mar 2025   Prob (F-statistic):           2.04e-23\n",
            "Time:                        10:27:59   Log-Likelihood:                -299.48\n",
            "No. Observations:                 100   AIC:                             603.0\n",
            "Df Residuals:                      98   BIC:                             608.2\n",
            "Df Model:                           1                                         \n",
            "Covariance Type:            nonrobust                                         \n",
            "=========================================================================================\n",
            "                            coef    std err          t      P>|t|      [0.025      0.975]\n",
            "-----------------------------------------------------------------------------------------\n",
            "Intercept                 4.8879      3.040      1.608      0.111      -1.145      10.920\n",
            "ice_cream_consumption     0.6691      0.051     13.174      0.000       0.568       0.770\n",
            "==============================================================================\n",
            "Omnibus:                        0.475   Durbin-Watson:                   1.965\n",
            "Prob(Omnibus):                  0.789   Jarque-Bera (JB):                0.236\n",
            "Skew:                          -0.113   Prob(JB):                        0.889\n",
            "Kurtosis:                       3.077   Cond. No.                         373.\n",
            "==============================================================================\n",
            "\n",
            "Notes:\n",
            "[1] Standard Errors assume that the covariance matrix of the errors is correctly specified.\n"
          ]
        }
      ],
      "source": [
        "import statsmodels.formula.api as smf\n",
        "\n",
        "# Resizualized with Hot Temperature\n",
        "naive_fit = smf.ols(\"number_sunburns ~ ice_cream_consumption\", data).fit()\n",
        "print(naive_fit.summary())"
      ]
    },
    {
      "cell_type": "markdown",
      "id": "db3fa3f8",
      "metadata": {
        "lines_to_next_cell": 0,
        "id": "db3fa3f8"
      },
      "source": [
        "We see that the coefficient for ice_cream_consumption is positive and\n",
        "statistically significant. This might lead us to believe that ice cream\n",
        "consumption causes sunburns. However, this is not the case. The relationship\n",
        " between ice cream consumption and sunburns is confounded by hot temperature.\n",
        " Let's see what happens when we control for hot temperature.\n",
        "\n",
        "### Resizualized with Hot Temperature\n",
        "- TODO: Perform a regression analysis for both the ice cream and the number of\n",
        " sun burns to *regress away* the effect of the hot_temperature.\n",
        "Regression for ice_cream_consumption"
      ]
    },
    {
      "cell_type": "code",
      "source": [
        "# Regress away the effect of hot temperature\n",
        "# Step 1: Residualizing ice cream consumption\n",
        "icecream_residuals = smf.ols(\"ice_cream_consumption ~ hot_temperature\", data=data).fit().resid\n",
        "\n",
        "# Step 2: Residualizing number of sunburns\n",
        "sunburns_residuals = smf.ols(\"number_sunburns ~ hot_temperature\", data=data).fit().resid\n",
        "\n",
        "# Step 3: Regression on residualized variables\n",
        "residual_data = pd.DataFrame({\n",
        "    \"sunburns_residuals\": sunburns_residuals,\n",
        "    \"icecream_residuals\": icecream_residuals\n",
        "})\n",
        "\n",
        "residual_fit = smf.ols(\"sunburns_residuals ~ icecream_residuals\", data=residual_data).fit()\n",
        "print(\"\\nRegression on Residualized Variables:\\n\", residual_fit.summary())"
      ],
      "metadata": {
        "id": "eHY6Swfxt-WX",
        "outputId": "ae01fe7d-4c9c-409a-e07a-9ffd77dfb8fc",
        "colab": {
          "base_uri": "https://localhost:8080/"
        }
      },
      "id": "eHY6Swfxt-WX",
      "execution_count": 22,
      "outputs": [
        {
          "output_type": "stream",
          "name": "stdout",
          "text": [
            "\n",
            "Regression on Residualized Variables:\n",
            "                             OLS Regression Results                            \n",
            "==============================================================================\n",
            "Dep. Variable:     sunburns_residuals   R-squared:                       0.000\n",
            "Model:                            OLS   Adj. R-squared:                 -0.010\n",
            "Method:                 Least Squares   F-statistic:                   0.01164\n",
            "Date:                Tue, 04 Mar 2025   Prob (F-statistic):              0.914\n",
            "Time:                        10:33:44   Log-Likelihood:                -257.48\n",
            "No. Observations:                 100   AIC:                             519.0\n",
            "Df Residuals:                      98   BIC:                             524.2\n",
            "Df Model:                           1                                         \n",
            "Covariance Type:            nonrobust                                         \n",
            "======================================================================================\n",
            "                         coef    std err          t      P>|t|      [0.025      0.975]\n",
            "--------------------------------------------------------------------------------------\n",
            "Intercept          -1.742e-14      0.321  -5.43e-14      1.000      -0.637       0.637\n",
            "icecream_residuals    -0.0074      0.068     -0.108      0.914      -0.143       0.128\n",
            "==============================================================================\n",
            "Omnibus:                        3.125   Durbin-Watson:                   2.220\n",
            "Prob(Omnibus):                  0.210   Jarque-Bera (JB):                3.080\n",
            "Skew:                           0.108   Prob(JB):                        0.214\n",
            "Kurtosis:                       3.832   Cond. No.                         4.70\n",
            "==============================================================================\n",
            "\n",
            "Notes:\n",
            "[1] Standard Errors assume that the covariance matrix of the errors is correctly specified.\n"
          ]
        }
      ]
    },
    {
      "cell_type": "markdown",
      "id": "ec261388",
      "metadata": {
        "lines_to_next_cell": 0,
        "id": "ec261388"
      },
      "source": [
        "Lets's vizualize the debiased data."
      ]
    },
    {
      "cell_type": "markdown",
      "id": "067c5108",
      "metadata": {
        "lines_to_next_cell": 0,
        "id": "067c5108"
      },
      "source": [
        "## Visualize the residuals (relationship after conditioning)\n"
      ]
    },
    {
      "cell_type": "code",
      "execution_count": 23,
      "id": "c5a18008",
      "metadata": {
        "lines_to_next_cell": 0,
        "colab": {
          "base_uri": "https://localhost:8080/",
          "height": 564
        },
        "id": "c5a18008",
        "outputId": "d7a68d61-32dd-499f-ab03-bc82fe85b0c4"
      },
      "outputs": [
        {
          "output_type": "display_data",
          "data": {
            "text/plain": [
              "<Figure size 800x600 with 1 Axes>"
            ],
            "image/png": "[encoded data removed]"
          },
          "metadata": {}
        }
      ],
      "source": [
        "# CODE HERE\n",
        "\n",
        "# Scatter plot of residualized variables\n",
        "plt.figure(figsize=(8, 6))\n",
        "sns.regplot(x=residual_data[\"icecream_residuals\"], y=residual_data[\"sunburns_residuals\"],\n",
        "            scatter_kws={\"alpha\": 0.6}, line_kws={\"color\": \"red\"})\n",
        "plt.xlabel(\"Residualized Ice Cream Consumption\")\n",
        "plt.ylabel(\"Residualized Number of Sunburns\")\n",
        "plt.title(\"Residualized Relationship: Ice Cream Consumption vs. Sunburns\")\n",
        "plt.show()"
      ]
    },
    {
      "cell_type": "markdown",
      "id": "16dae004",
      "metadata": {
        "lines_to_next_cell": 0,
        "id": "16dae004"
      },
      "source": [
        "## Debiased regression"
      ]
    },
    {
      "cell_type": "code",
      "source": [
        "print(\n",
        "    smf.ols(\"sunburns_residuals ~ icecream_residuals\", data=residual_data).fit().summary()\n",
        ")\n"
      ],
      "metadata": {
        "id": "kwfP5IiWuusx",
        "outputId": "0086b96c-f086-4369-bbf9-716e078510dd",
        "colab": {
          "base_uri": "https://localhost:8080/"
        }
      },
      "id": "kwfP5IiWuusx",
      "execution_count": 25,
      "outputs": [
        {
          "output_type": "stream",
          "name": "stdout",
          "text": [
            "                            OLS Regression Results                            \n",
            "==============================================================================\n",
            "Dep. Variable:     sunburns_residuals   R-squared:                       0.000\n",
            "Model:                            OLS   Adj. R-squared:                 -0.010\n",
            "Method:                 Least Squares   F-statistic:                   0.01164\n",
            "Date:                Tue, 04 Mar 2025   Prob (F-statistic):              0.914\n",
            "Time:                        10:37:01   Log-Likelihood:                -257.48\n",
            "No. Observations:                 100   AIC:                             519.0\n",
            "Df Residuals:                      98   BIC:                             524.2\n",
            "Df Model:                           1                                         \n",
            "Covariance Type:            nonrobust                                         \n",
            "======================================================================================\n",
            "                         coef    std err          t      P>|t|      [0.025      0.975]\n",
            "--------------------------------------------------------------------------------------\n",
            "Intercept          -1.742e-14      0.321  -5.43e-14      1.000      -0.637       0.637\n",
            "icecream_residuals    -0.0074      0.068     -0.108      0.914      -0.143       0.128\n",
            "==============================================================================\n",
            "Omnibus:                        3.125   Durbin-Watson:                   2.220\n",
            "Prob(Omnibus):                  0.210   Jarque-Bera (JB):                3.080\n",
            "Skew:                           0.108   Prob(JB):                        0.214\n",
            "Kurtosis:                       3.832   Cond. No.                         4.70\n",
            "==============================================================================\n",
            "\n",
            "Notes:\n",
            "[1] Standard Errors assume that the covariance matrix of the errors is correctly specified.\n"
          ]
        }
      ]
    },
    {
      "cell_type": "markdown",
      "id": "01d1555f",
      "metadata": {
        "lines_to_next_cell": 0,
        "id": "01d1555f"
      },
      "source": [
        "\n",
        "\n",
        "```\n",
        "# Ce texte est au format code\n",
        "```\n",
        "\n",
        "TODO: What do you observe in the debiased regression analysis? WHat value do the coefficient of ice_cream_residuals take? What does it suggest for the relationship between ice cream consumption and number of sunburns?"
      ]
    },
    {
      "cell_type": "markdown",
      "source": [
        "The apparent link between ice cream consumption and sunburns was due to hot temperature driving both variables. The residualized regression confirms that ice cream consumption does not cause sunburns, and the initial relationship was purely spurious.\n",
        "\n",
        "\n",
        "\n",
        "\n",
        "\n",
        "\n",
        "\n"
      ],
      "metadata": {
        "id": "ZBQKwj68wIos"
      },
      "id": "ZBQKwj68wIos"
    },
    {
      "cell_type": "markdown",
      "id": "37a3e36a",
      "metadata": {
        "lines_to_next_cell": 0,
        "id": "37a3e36a"
      },
      "source": [
        "# Collider bias for celebrities at Hollywood\n",
        "\n",
        "Here is a simple example to illustate the collider or M-bias.\n",
        "Credits to [Chernozhulov et al., 2024, Causal ML book](https://www.causalml-book.org/).\n",
        "\n",
        "The idea is that people who get to Hollywood tend to have a high\n",
        "congenility = talent + beauty. Funnily enough this induces a negative\n",
        "correlation between talents and looks, when we condition on the set of actors\n",
        "or celebrities.\n",
        "\n",
        "This simple example explains an anecdotal observation that \"talent and beauty\n",
        "are negatively correlated\" for celebrities.\n",
        "This is a form of collider bias, also coined as selection bias for this specific case.\n",
        "Talent : la capacité d’un acteur à bien jouer.\n",
        "Beauté : l’attrait physique de l’acteur.\n",
        "Succès à Hollywood : la probabilité qu’une personne devienne une célébrité.\n",
        "\n",
        "Dans la population générale, talent et beauté sont indépendants : il y a des gens talentueux et beaux, d’autres talentueux mais pas beaux, et vice versa.\n",
        "Mais quand on conditionne sur les célébrités, c'est-à-dire qu'on ne regarde que les gens qui ont réussi à Hollywood, on introduit un biais :\n",
        "Ceux qui sont très beaux peuvent percer même s'ils ont moins de talent.\n",
        "Ceux qui sont très talentueux peuvent percer même s'ils sont moins beaux.\n",
        "Par contre, ceux qui sont peu talentueux et peu beaux ne deviennent pas célèbres.\n",
        "Résultat : parmi les acteurs célèbres, il semble y avoir une relation négative entre talent et beauté, même si cette relation n'existe pas dans la population générale.\n",
        "4. Pourquoi c'est un biais ?\n",
        "Dans la population totale, talent et beauté ne sont pas nécessairement corrélés.\n",
        "Mais en regardant seulement les célébrités (donc en conditionnant sur le succès), on exclut ceux qui n’ont ni talent ni beauté.\n",
        "Cela induit artificiellement une relation négative entre talent et beauté, alors qu’en réalité, aucune relation causale directe n’existe entre ces deux variables.\n",
        "5. Application générale du collider bias\n",
        "\n",
        "## notes :\n",
        "Un collider bias (ou biais de collision) se produit lorsqu'une variable est influencée par deux autres variables, et que l'on conditionne (contrôle) cette variable dans une analyse, ce qui crée une fausse association entre les deux autres variables, même si elles étaient indépendantes au départ.\n",
        "\n",
        "Imaginons une entreprise qui n’embauche que les personnes ayant soit une très bonne formation, soit une grande expérience. Ici :\n",
        "\n",
        "Formation → Influence l’embauche\n",
        "Expérience → Influence aussi l’embauche\n",
        "Embauche est le collider.\n",
        "Si on analyse uniquement les employés (donc on conditionne sur l’embauche), on pourrait observer une corrélation négative entre formation et expérience : parmi ceux embauchés, ceux qui ont moins de formation ont souvent plus d'expérience, et vice versa. Pourtant, dans la population générale, il n’y avait peut-être aucune relation entre ces deux variables !\n",
        "\n",
        "### Causal graph for celebrities at Hollywood\n",
        "\n",
        "- TODO: Draw the graph the graph corresponding to the causal relationships between these variables."
      ]
    },
    {
      "cell_type": "code",
      "execution_count": null,
      "id": "b56c98eb",
      "metadata": {
        "lines_to_next_cell": 0,
        "id": "b56c98eb"
      },
      "outputs": [],
      "source": [
        "# CODE HERE\n",
        "# CODE HERE\n",
        "\n",
        "digraph3 = nx.DiGraph(\n",
        "    [\n",
        "        (\"Talent\", \"Beauty\"),\n",
        "        (\"Congenility\", \"S\")\n",
        "    ]\n",
        ")\n",
        "\n",
        "G2 = DAG(digraph2)\n",
        "\n",
        "nx.draw_planar(G2, with_labels=True)\n",
        "plt.show()\n"
      ]
    },
    {
      "cell_type": "markdown",
      "id": "5721d079",
      "metadata": {
        "lines_to_next_cell": 0,
        "id": "5721d079"
      },
      "source": [
        "### Simulate the data for celebrities at Hollywood"
      ]
    },
    {
      "cell_type": "code",
      "execution_count": null,
      "id": "2c27506c",
      "metadata": {
        "lines_to_next_cell": 0,
        "id": "2c27506c"
      },
      "outputs": [],
      "source": [
        "np.random.seed(123)\n",
        "num_samples = 10000\n",
        "talent = np.random.normal(size=num_samples)\n",
        "beauty = np.random.normal(size=num_samples)\n",
        "congeniality = talent + beauty + np.random.normal(size=num_samples)  # congeniality\n",
        "hollywood_data = pd.DataFrame(\n",
        "    {\n",
        "        \"talent\": talent,\n",
        "        \"beauty\": beauty,\n",
        "        \"congeniality\": congeniality,\n",
        "    }\n",
        ")\n",
        "# Create the conditional variable: celebrity is True if congeniality > 2\n",
        "hollywood_data[\"celebrity\"] = hollywood_data[\"congeniality\"] > 2"
      ]
    },
    {
      "cell_type": "markdown",
      "id": "b8aeb8f2",
      "metadata": {
        "lines_to_next_cell": 0,
        "id": "b8aeb8f2"
      },
      "source": [
        "### Visualize the relationships for celebrities at Hollywood\n",
        "- TODO: Visualize the pairplot :\n",
        " - for the whole data.\n",
        " - only for the celebrities."
      ]
    },
    {
      "cell_type": "code",
      "execution_count": null,
      "id": "b90eadac",
      "metadata": {
        "lines_to_next_cell": 0,
        "id": "b90eadac"
      },
      "outputs": [],
      "source": [
        "# CODE HERE"
      ]
    },
    {
      "cell_type": "markdown",
      "id": "f87e5ed5",
      "metadata": {
        "lines_to_next_cell": 0,
        "id": "f87e5ed5"
      },
      "source": [
        "We see that for the whole data, there is no correlation between talent and\n",
        "beauty. However, when we condition on the set of celebrities, we see a\n",
        "negative correlation between talent and beauty. This is an example of collider\n",
        "bias.\n",
        "\n",
        "### Regression analysis for celebrities at Hollywood\n",
        "Recover what we have seen in the pairplot, that is, the negative correlation\n",
        "between talent and beauty for celebrities.\n",
        "- TODO: Perform regression analysis to show the collider bias. You should\n",
        "contrast a regression analysis for the whole data and for the celebrities only."
      ]
    },
    {
      "cell_type": "code",
      "execution_count": null,
      "id": "366f6124",
      "metadata": {
        "id": "366f6124"
      },
      "outputs": [],
      "source": [
        "# CODE HERE"
      ]
    }
  ],
  "metadata": {
    "jupytext": {
      "cell_metadata_filter": "-all",
      "main_language": "python",
      "notebook_metadata_filter": "-all"
    },
    "colab": {
      "provenance": []
    },
    "language_info": {
      "name": "python"
    },
    "kernelspec": {
      "name": "python3",
      "display_name": "Python 3"
    }
  },
  "nbformat": 4,
  "nbformat_minor": 5
}